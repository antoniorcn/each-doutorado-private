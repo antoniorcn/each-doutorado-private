{
 "cells": [
  {
   "cell_type": "code",
   "execution_count": 1,
   "id": "55f6d24e-9fa5-49e6-8e00-371baeee2d61",
   "metadata": {},
   "outputs": [],
   "source": [
    "import numpy as np"
   ]
  },
  {
   "cell_type": "code",
   "execution_count": 3,
   "id": "5ab6c606-48b1-4520-b141-38cef2ab3134",
   "metadata": {},
   "outputs": [],
   "source": [
    "import pandas as pd"
   ]
  },
  {
   "cell_type": "code",
   "execution_count": 10,
   "id": "12867ee3-91b3-458b-89ad-38483367aa09",
   "metadata": {},
   "outputs": [],
   "source": [
    "import matplotlib.pyplot as plt"
   ]
  },
  {
   "cell_type": "code",
   "execution_count": 100,
   "id": "15f8bf8d-ffde-425f-82b0-bf194752a87d",
   "metadata": {},
   "outputs": [],
   "source": [
    "import matplotlib.animation as animation"
   ]
  },
  {
   "cell_type": "code",
   "execution_count": 116,
   "id": "8064fb59-0996-45dc-957e-ee097d94ce64",
   "metadata": {},
   "outputs": [],
   "source": [
    "from IPython.display import HTML"
   ]
  },
  {
   "cell_type": "code",
   "execution_count": 258,
   "id": "872be951-06fa-4315-b2d0-57afb2aa39b5",
   "metadata": {},
   "outputs": [],
   "source": [
    "from random import random"
   ]
  },
  {
   "cell_type": "markdown",
   "id": "5a5cf873-b28e-47e2-b0fc-fdac313b441a",
   "metadata": {},
   "source": [
    "## Gerar Dados aleatórios e classificáveis"
   ]
  },
  {
   "cell_type": "code",
   "execution_count": 196,
   "id": "3edf91e8-fb66-4241-a0bd-e7fa9494bce3",
   "metadata": {},
   "outputs": [],
   "source": [
    "def gerar_dados_diagonal(n=50, seed=42, features=2):\n",
    "    np.random.seed(seed)\n",
    "    X = []\n",
    "    y = []\n",
    "\n",
    "    for _ in range(n):\n",
    "        x_features = []\n",
    "        # Geração com ruído para espalhar bem\n",
    "        for xindice in range(features): \n",
    "            x = np.random.normal(loc=5, scale=2)\n",
    "            x_features.append( x )\n",
    "        # Valor de rótulo calculado com base nos dois primeiros features\n",
    "        label = 1 if x_features[1] > x_features[0] else 0\n",
    "\n",
    "        X.append(x_features)\n",
    "        y.append(label)\n",
    "\n",
    "    return np.array(X), np.array(y)"
   ]
  },
  {
   "cell_type": "code",
   "execution_count": 237,
   "id": "3deb2dc1-6e54-4011-b8e8-39b2493ac148",
   "metadata": {},
   "outputs": [],
   "source": [
    "quantidade_instancias = 50\n",
    "features = 2\n",
    "# Gerar os dados\n",
    "X, Y = gerar_dados_diagonal(quantidade_instancias)"
   ]
  },
  {
   "cell_type": "code",
   "execution_count": 239,
   "id": "13979890-ea5a-4b87-8ac6-23b8c49fcdfb",
   "metadata": {},
   "outputs": [
    {
     "data": {
      "text/plain": [
       "(50, 2)"
      ]
     },
     "execution_count": 239,
     "metadata": {},
     "output_type": "execute_result"
    }
   ],
   "source": [
    "X.shape"
   ]
  },
  {
   "cell_type": "code",
   "execution_count": 241,
   "id": "108aec0d-0afc-4a3c-86c3-e523e88503d7",
   "metadata": {},
   "outputs": [
    {
     "data": {
      "text/plain": [
       "array([0, 1, 1, 0, 1, 0, 0, 1, 1, 0, 0, 0, 1, 1, 1, 1, 0, 0, 0, 1, 0, 0,\n",
       "       1, 1, 0, 0, 1, 0, 1, 1, 1, 0, 1, 1, 0, 1, 1, 1, 0, 0, 1, 0, 1, 0,\n",
       "       1, 1, 1, 0, 0, 0])"
      ]
     },
     "execution_count": 241,
     "metadata": {},
     "output_type": "execute_result"
    }
   ],
   "source": [
    "Y"
   ]
  },
  {
   "cell_type": "markdown",
   "id": "3f1bbefb-8194-499b-85f3-8c0a29fc1e9c",
   "metadata": {},
   "source": [
    "## Função de ativação"
   ]
  },
  {
   "cell_type": "code",
   "execution_count": 243,
   "id": "1bb15eb3-42ec-46e7-b3bd-468b282f6f5c",
   "metadata": {},
   "outputs": [],
   "source": [
    "def step( valor, threshold ):\n",
    "    return 1 if valor >= threshold else 0"
   ]
  },
  {
   "cell_type": "code",
   "execution_count": 245,
   "id": "ab97fe38-dbf9-47bc-bf15-437d76087133",
   "metadata": {},
   "outputs": [],
   "source": [
    "def calcular_saida( X, W ): \n",
    "    return np.dot(X, W)"
   ]
  },
  {
   "cell_type": "code",
   "execution_count": 247,
   "id": "deba1a12-d452-4c66-890e-e4236ab6ae7d",
   "metadata": {},
   "outputs": [],
   "source": [
    "def calcular_ajuste_peso( x, y, y_hat, learning_rate = 0.01 ):\n",
    "    return learning_rate * (y - y_hat) * x"
   ]
  },
  {
   "cell_type": "markdown",
   "id": "233f9d35-ef5c-412e-8ba2-5e40d0c56887",
   "metadata": {},
   "source": [
    "## Definição de valores iniciais"
   ]
  },
  {
   "cell_type": "code",
   "execution_count": 262,
   "id": "db591b77-e22b-413b-869a-ab01b10f3fdf",
   "metadata": {},
   "outputs": [
    {
     "name": "stdout",
     "output_type": "stream",
     "text": [
      "Threshold:  0.678287532425125\n",
      "Pesos:  [-0.16517799 -0.55578438]\n"
     ]
    }
   ],
   "source": [
    "learning_rate = 0.001\n",
    "epocas = 100\n",
    "intervalo_pesos = (-1, 1)\n",
    "amplitude_pesos = abs(intervalo_pesos[1] - intervalo_pesos[0]) \n",
    "W = (np.random.random(features) * amplitude_pesos) + intervalo_pesos[0]\n",
    "W_threshold = (random() * amplitude_pesos) + intervalo_pesos[0]\n",
    "print(\"Threshold: \", W_threshold)\n",
    "print(\"Pesos: \", w)"
   ]
  },
  {
   "cell_type": "code",
   "execution_count": null,
   "id": "e0e336a0-b3fc-4874-86fc-481e69c6a705",
   "metadata": {},
   "outputs": [],
   "source": []
  },
  {
   "cell_type": "code",
   "execution_count": 280,
   "id": "f28b7403-1c2b-4f60-a196-c1749d8a1d63",
   "metadata": {},
   "outputs": [
    {
     "ename": "SyntaxError",
     "evalue": "invalid syntax (3045577769.py, line 40)",
     "output_type": "error",
     "traceback": [
      "\u001b[1;36m  Cell \u001b[1;32mIn[280], line 40\u001b[1;36m\u001b[0m\n\u001b[1;33m    calcular_ajuste_peso( X, y, Y_hat[x_indice], learning_rate = 0.01 ):\u001b[0m\n\u001b[1;37m                                                                       ^\u001b[0m\n\u001b[1;31mSyntaxError\u001b[0m\u001b[1;31m:\u001b[0m invalid syntax\n"
     ]
    }
   ],
   "source": [
    "%matplotlib inline\n",
    "\n",
    "# Figura e eixos\n",
    "fig, ax = plt.subplots()\n",
    "ax.set_xlim(0, 10)\n",
    "ax.set_ylim(0, 10)\n",
    "ax.set_aspect('equal')\n",
    "\n",
    "# Plot dos pontos\n",
    "cores = ['blue' if label == 1 else 'red' for label in y]\n",
    "scatter = ax.scatter(X[:, 0], X[:, 1], c=cores, edgecolors='black')\n",
    "\n",
    "# Linha da reta\n",
    "line, = ax.plot([], [], 'g--', linewidth=2)\n",
    "\n",
    "# Função da reta rotacionada (passando por centro [5, 5])\n",
    "def reta_rotacionada(theta_rad):\n",
    "    # ponto central\n",
    "    cx, cy = 5, 5\n",
    "    # direção da reta (vetor unitário rotacionado)\n",
    "    dx = np.cos(theta_rad)\n",
    "    dy = np.sin(theta_rad)\n",
    "    # dois pontos ao longo da reta\n",
    "    escala = 10  # extensão da reta\n",
    "    x0, y0 = cx - dx * escala, cy - dy * escala\n",
    "    x1, y1 = cx + dx * escala, cy + dy * escala\n",
    "    return [x0, x1], [y0, y1]\n",
    "\n",
    "# Inicialização\n",
    "def init():\n",
    "    line.set_data([], [])\n",
    "    return line,\n",
    "\n",
    "# Atualização por frame\n",
    "def update(frame):\n",
    "    epoca = frame[0]\n",
    "    indice = frame[1]\n",
    "    Y_hat = calcular_saida(X[indice], W)\n",
    "    ajuste_peso = calcular_ajuste_peso( X[indice], Y[indice], Y_hat, learning_rate )\n",
    "    W = W + ajuste_peso\n",
    "    angle_rad = np.radians(epoca)\n",
    "    x1 = menor_valor\n",
    "    x2 = maior_valor\n",
    "    y1 = calcular_saida(x1, W[0])\n",
    "    y2 = calcular_saida(x2, W[1])\n",
    "    line.set_data([x1, x2], [y1, y2])\n",
    "    return line,\n",
    "\n",
    "# Criar animação\n",
    "ani = animation.FuncAnimation(\n",
    "    fig, update,\n",
    "    frames=[(i // quantidade_instancias, i % quantidade_instancias) for i in range(epocas * quantidade_instancias)],   \n",
    "        # Cada frame será uma lista com [ número da epoca, indice do X]\n",
    "    init_func=init,\n",
    "    blit=True,\n",
    "    interval=100\n",
    ")\n",
    "\n",
    "# Mostrar no notebook\n",
    "HTML(ani.to_jshtml())\n"
   ]
  },
  {
   "cell_type": "code",
   "execution_count": 278,
   "id": "9600963f-0557-4393-863d-1f741657018b",
   "metadata": {},
   "outputs": [
    {
     "data": {
      "text/plain": [
       "[(0, 0),\n",
       " (0, 1),\n",
       " (1, 0),\n",
       " (1, 1),\n",
       " (2, 0),\n",
       " (2, 1),\n",
       " (3, 0),\n",
       " (3, 1),\n",
       " (4, 0),\n",
       " (4, 1),\n",
       " (5, 0),\n",
       " (5, 1),\n",
       " (6, 0),\n",
       " (6, 1),\n",
       " (7, 0),\n",
       " (7, 1),\n",
       " (8, 0),\n",
       " (8, 1),\n",
       " (9, 0),\n",
       " (9, 1),\n",
       " (10, 0),\n",
       " (10, 1),\n",
       " (11, 0),\n",
       " (11, 1),\n",
       " (12, 0),\n",
       " (12, 1),\n",
       " (13, 0),\n",
       " (13, 1),\n",
       " (14, 0),\n",
       " (14, 1),\n",
       " (15, 0),\n",
       " (15, 1),\n",
       " (16, 0),\n",
       " (16, 1),\n",
       " (17, 0),\n",
       " (17, 1),\n",
       " (18, 0),\n",
       " (18, 1),\n",
       " (19, 0),\n",
       " (19, 1),\n",
       " (20, 0),\n",
       " (20, 1),\n",
       " (21, 0),\n",
       " (21, 1),\n",
       " (22, 0),\n",
       " (22, 1),\n",
       " (23, 0),\n",
       " (23, 1),\n",
       " (24, 0),\n",
       " (24, 1),\n",
       " (25, 0),\n",
       " (25, 1),\n",
       " (26, 0),\n",
       " (26, 1),\n",
       " (27, 0),\n",
       " (27, 1),\n",
       " (28, 0),\n",
       " (28, 1),\n",
       " (29, 0),\n",
       " (29, 1),\n",
       " (30, 0),\n",
       " (30, 1),\n",
       " (31, 0),\n",
       " (31, 1),\n",
       " (32, 0),\n",
       " (32, 1),\n",
       " (33, 0),\n",
       " (33, 1),\n",
       " (34, 0),\n",
       " (34, 1),\n",
       " (35, 0),\n",
       " (35, 1),\n",
       " (36, 0),\n",
       " (36, 1),\n",
       " (37, 0),\n",
       " (37, 1),\n",
       " (38, 0),\n",
       " (38, 1),\n",
       " (39, 0),\n",
       " (39, 1),\n",
       " (40, 0),\n",
       " (40, 1),\n",
       " (41, 0),\n",
       " (41, 1),\n",
       " (42, 0),\n",
       " (42, 1),\n",
       " (43, 0),\n",
       " (43, 1),\n",
       " (44, 0),\n",
       " (44, 1),\n",
       " (45, 0),\n",
       " (45, 1),\n",
       " (46, 0),\n",
       " (46, 1),\n",
       " (47, 0),\n",
       " (47, 1),\n",
       " (48, 0),\n",
       " (48, 1),\n",
       " (49, 0),\n",
       " (49, 1),\n",
       " (50, 0),\n",
       " (50, 1),\n",
       " (51, 0),\n",
       " (51, 1),\n",
       " (52, 0),\n",
       " (52, 1),\n",
       " (53, 0),\n",
       " (53, 1),\n",
       " (54, 0),\n",
       " (54, 1),\n",
       " (55, 0),\n",
       " (55, 1),\n",
       " (56, 0),\n",
       " (56, 1),\n",
       " (57, 0),\n",
       " (57, 1),\n",
       " (58, 0),\n",
       " (58, 1),\n",
       " (59, 0),\n",
       " (59, 1),\n",
       " (60, 0),\n",
       " (60, 1),\n",
       " (61, 0),\n",
       " (61, 1),\n",
       " (62, 0),\n",
       " (62, 1),\n",
       " (63, 0),\n",
       " (63, 1),\n",
       " (64, 0),\n",
       " (64, 1),\n",
       " (65, 0),\n",
       " (65, 1),\n",
       " (66, 0),\n",
       " (66, 1),\n",
       " (67, 0),\n",
       " (67, 1),\n",
       " (68, 0),\n",
       " (68, 1),\n",
       " (69, 0),\n",
       " (69, 1),\n",
       " (70, 0),\n",
       " (70, 1),\n",
       " (71, 0),\n",
       " (71, 1),\n",
       " (72, 0),\n",
       " (72, 1),\n",
       " (73, 0),\n",
       " (73, 1),\n",
       " (74, 0),\n",
       " (74, 1),\n",
       " (75, 0),\n",
       " (75, 1),\n",
       " (76, 0),\n",
       " (76, 1),\n",
       " (77, 0),\n",
       " (77, 1),\n",
       " (78, 0),\n",
       " (78, 1),\n",
       " (79, 0),\n",
       " (79, 1),\n",
       " (80, 0),\n",
       " (80, 1),\n",
       " (81, 0),\n",
       " (81, 1),\n",
       " (82, 0),\n",
       " (82, 1),\n",
       " (83, 0),\n",
       " (83, 1),\n",
       " (84, 0),\n",
       " (84, 1),\n",
       " (85, 0),\n",
       " (85, 1),\n",
       " (86, 0),\n",
       " (86, 1),\n",
       " (87, 0),\n",
       " (87, 1),\n",
       " (88, 0),\n",
       " (88, 1),\n",
       " (89, 0),\n",
       " (89, 1),\n",
       " (90, 0),\n",
       " (90, 1),\n",
       " (91, 0),\n",
       " (91, 1),\n",
       " (92, 0),\n",
       " (92, 1),\n",
       " (93, 0),\n",
       " (93, 1),\n",
       " (94, 0),\n",
       " (94, 1),\n",
       " (95, 0),\n",
       " (95, 1),\n",
       " (96, 0),\n",
       " (96, 1),\n",
       " (97, 0),\n",
       " (97, 1),\n",
       " (98, 0),\n",
       " (98, 1),\n",
       " (99, 0),\n",
       " (99, 1)]"
      ]
     },
     "execution_count": 278,
     "metadata": {},
     "output_type": "execute_result"
    }
   ],
   "source": []
  },
  {
   "cell_type": "code",
   "execution_count": null,
   "id": "9ba8962d-ad63-4dea-9670-345472e6b504",
   "metadata": {},
   "outputs": [],
   "source": []
  }
 ],
 "metadata": {
  "kernelspec": {
   "display_name": "Python [conda env:base] *",
   "language": "python",
   "name": "conda-base-py"
  },
  "language_info": {
   "codemirror_mode": {
    "name": "ipython",
    "version": 3
   },
   "file_extension": ".py",
   "mimetype": "text/x-python",
   "name": "python",
   "nbconvert_exporter": "python",
   "pygments_lexer": "ipython3",
   "version": "3.12.7"
  }
 },
 "nbformat": 4,
 "nbformat_minor": 5
}
